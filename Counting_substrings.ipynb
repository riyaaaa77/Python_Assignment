{
 "cells": [
  {
   "cell_type": "markdown",
   "id": "9afe2e29",
   "metadata": {},
   "source": [
    "# Counting substring from a string"
   ]
  },
  {
   "cell_type": "code",
   "execution_count": 2,
   "id": "953c48cf",
   "metadata": {},
   "outputs": [
    {
     "name": "stdout",
     "output_type": "stream",
     "text": [
      "Enter the string: ABCDCDC\n",
      "Enter the substring:CD\n",
      "2\n"
     ]
    }
   ],
   "source": [
    "def count_substring(string, sub_string):\n",
    "    total = 0\n",
    "    for i in range(len(string)):\n",
    "        if string[i:len(string)].startswith(sub_string):\n",
    "            total += 1\n",
    "    return total\n",
    "\n",
    "if __name__ == '__main__':\n",
    "    string = input(\"Enter the string: \").strip()\n",
    "    sub_string = input(\"Enter the substring:\").strip()\n",
    "    \n",
    "    count = count_substring(string, sub_string)\n",
    "    print(count)\n",
    "          "
   ]
  },
  {
   "cell_type": "code",
   "execution_count": null,
   "id": "2645b813",
   "metadata": {},
   "outputs": [],
   "source": []
  }
 ],
 "metadata": {
  "kernelspec": {
   "display_name": "Python 3 (ipykernel)",
   "language": "python",
   "name": "python3"
  },
  "language_info": {
   "codemirror_mode": {
    "name": "ipython",
    "version": 3
   },
   "file_extension": ".py",
   "mimetype": "text/x-python",
   "name": "python",
   "nbconvert_exporter": "python",
   "pygments_lexer": "ipython3",
   "version": "3.9.12"
  }
 },
 "nbformat": 4,
 "nbformat_minor": 5
}
