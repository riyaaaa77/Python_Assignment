{
 "cells": [
  {
   "cell_type": "code",
   "execution_count": 4,
   "id": "f1801cfb",
   "metadata": {},
   "outputs": [
    {
     "name": "stdout",
     "output_type": "stream",
     "text": [
      "Player 1, enter your move (R/P/S): r\n",
      "Player 2, enter your move (R/P/S): p\n",
      "Game 1 : Player 1 = R , Player 2 = P , Winner: Player2\n",
      " \n",
      "Player 1, enter your move (R/P/S): p\n",
      "Player 2, enter your move (R/P/S): r\n",
      "Game 2 : Player 1 = P , Player 2 = R , Winner: Player1\n",
      " \n",
      "Player 1, enter your move (R/P/S): r\n",
      "Player 2, enter your move (R/P/S): r\n",
      "Game 3 : Player 1 = R , Player 2 = R , Winner: Draw\n",
      " \n",
      "Player 1, enter your move (R/P/S): s\n",
      "Player 2, enter your move (R/P/S): p\n",
      "Game 4 : Player 1 = S , Player 2 = P , Winner: Player1\n",
      " \n",
      "Player 1, enter your move (R/P/S): r\n",
      "Player 2, enter your move (R/P/S): p\n",
      "Game 5 : Player 1 = R , Player 2 = P , Winner: Player2\n",
      " \n",
      "Player 1, enter your move (R/P/S): p\n",
      "Player 2, enter your move (R/P/S): s\n",
      "Game 6 : Player 1 = P , Player 2 = S , Winner: Player2\n",
      " \n",
      "Player 1, enter your move (R/P/S): r\n",
      "Player 2, enter your move (R/P/S): s\n",
      "Game 7 : Player 1 = R , Player 2 = S , Winner: Player1\n",
      " \n",
      "Player 1, enter your move (R/P/S): p\n",
      "Player 2, enter your move (R/P/S): r\n",
      "Game 8 : Player 1 = P , Player 2 = R , Winner: Player1\n",
      " \n",
      "Player 1, enter your move (R/P/S): r\n",
      "Player 2, enter your move (R/P/S): s\n",
      "Game 9 : Player 1 = R , Player 2 = S , Winner: Player1\n",
      " \n",
      "Player 1, enter your move (R/P/S): s\n",
      "Player 2, enter your move (R/P/S): p\n",
      "Game 10 : Player 1 = S , Player 2 = P , Winner: Player1\n",
      " \n",
      "Final Winner: Player1\n"
     ]
    }
   ],
   "source": [
    "# Function to determine the winner between two moves\n",
    "def determine_winner(player1_move, player2_move):\n",
    "    if player1_move == player2_move:\n",
    "        return \"Draw\"\n",
    "    \n",
    "    if (player1_move == 'R' and player2_move == 'S') or \n",
    "    (player1_move == 'S' and player2_move == 'P') or (player1_move == 'P' and player2_move == 'R'):\n",
    "        return \"Player1\"\n",
    "    \n",
    "    return \"Player2\"\n",
    "\n",
    "# Play the game for 10 rounds\n",
    "rounds = 10\n",
    "player1_wins = 0\n",
    "player2_wins = 0\n",
    "\n",
    "for i in range(rounds):\n",
    "    player1_move = input(\"Player 1, enter your move (R/P/S): \").upper()\n",
    "    player2_move = input(\"Player 2, enter your move (R/P/S): \").upper()\n",
    "\n",
    "    winner = determine_winner(player1_move, player2_move)\n",
    "\n",
    "    if winner == \"Player1\":\n",
    "        player1_wins += 1\n",
    "    elif winner == \"Player2\":\n",
    "        player2_wins += 1\n",
    "    \n",
    "    print(\"Game\", i+1, \": Player 1 =\", player1_move, \", Player 2 =\", player2_move, \", Winner:\", winner)\n",
    "    print(\" \")\n",
    "# Determine the final winner\n",
    "if player1_wins > player2_wins:\n",
    "    print(\"Final Winner: Player1\")\n",
    "elif player1_wins < player2_wins:\n",
    "    print(\"Final Winner: Player2\")\n",
    "else:\n",
    "    print(\"Final Result: Draw\")"
   ]
  },
  {
   "cell_type": "code",
   "execution_count": null,
   "id": "1be93e24",
   "metadata": {},
   "outputs": [],
   "source": []
  },
  {
   "cell_type": "code",
   "execution_count": null,
   "id": "41d3f135",
   "metadata": {},
   "outputs": [],
   "source": []
  }
 ],
 "metadata": {
  "kernelspec": {
   "display_name": "Python 3 (ipykernel)",
   "language": "python",
   "name": "python3"
  },
  "language_info": {
   "codemirror_mode": {
    "name": "ipython",
    "version": 3
   },
   "file_extension": ".py",
   "mimetype": "text/x-python",
   "name": "python",
   "nbconvert_exporter": "python",
   "pygments_lexer": "ipython3",
   "version": "3.9.12"
  }
 },
 "nbformat": 4,
 "nbformat_minor": 5
}
